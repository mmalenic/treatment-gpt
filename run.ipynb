{
 "cells": [
  {
   "cell_type": "code",
   "execution_count": null,
   "outputs": [],
   "source": [
    "from dataset.alternative_treatment_names import AlternativeTreatmentNames\n",
    "from dataset.mutation_landscape_cancer_type import MutationLandscapeCancerType\n",
    "\n",
    "mutation_landscape = MutationLandscapeCancerType()\n",
    "mutation_landscape.load()\n",
    "\n",
    "doids = mutation_landscape.doids()\n",
    "from dataset.load_protect import LoadProtect\n",
    "\n",
    "names = AlternativeTreatmentNames()\n",
    "names.load()\n",
    "\n",
    "load = LoadProtect(\n",
    "    cancer_types=mutation_landscape,\n",
    "    gene_pairs_per_sample=False,\n",
    "    alternative_names=names,\n",
    ")\n",
    "\n",
    "dataset = load.load()\n",
    "\n",
    "sources = load.sources()"
   ],
   "metadata": {
    "collapsed": false
   },
   "id": "2c2c92c5e9c93501"
  },
  {
   "cell_type": "code",
   "execution_count": null,
   "outputs": [],
   "source": [
    "from dataset.treatment_source_dataset import TreatmentSourceDataset\n",
    "from dataset.gene_pair_dataset import GenePairDataset\n",
    "\n",
    "load.load_pubmed()\n",
    "\n",
    "treatment_source_dataset = TreatmentSourceDataset(load)\n",
    "treatment_source_dataset.load()\n",
    "\n",
    "gene_pair_dataset = GenePairDataset(load, split_to_n_treatments=None)\n",
    "gene_pair_dataset.load()\n",
    "\n",
    "labels = gene_pair_dataset.label_counts()\n",
    "genes = gene_pair_dataset.gene_counts()\n",
    "labels_treatment = treatment_source_dataset.label_counts()"
   ],
   "metadata": {
    "collapsed": false
   },
   "id": "9477f7aa395748e5"
  },
  {
   "cell_type": "code",
   "execution_count": null,
   "outputs": [],
   "source": [
    "from classifier.gpt.run_configuration import RunConfiguration\n",
    "from pathlib import Path\n",
    "\n",
    "config = RunConfiguration(load)"
   ],
   "metadata": {
    "collapsed": false
   },
   "id": "f1466c413f51e415"
  },
  {
   "cell_type": "code",
   "execution_count": null,
   "outputs": [],
   "source": [
    "import asyncio\n",
    "import warnings\n",
    "warnings.filterwarnings('ignore')\n",
    "\n",
    "import seaborn as sns\n",
    "\n",
    "asyncio.get_event_loop().set_debug(True)\n",
    "\n",
    "sns.set_theme(style=\"darkgrid\")\n",
    "\n",
    "config.save_example_prompts()\n",
    "import openai\n",
    "openai.api_key = #<api_key>\n",
    "\n",
    "if not Path(\"pickle.pkl\").exists():\n",
    "    with open(\"pickle.pkl\", \"wb\") as f:\n",
    "        import dill as pickle\n",
    "        pickle.dump(config, f)\n"
   ],
   "metadata": {
    "collapsed": false
   },
   "id": "ce6b7b462d828e33"
  },
  {
   "cell_type": "code",
   "execution_count": null,
   "outputs": [],
   "source": [
    "await config.run_all(save_diagrams=True, from_path=True)"
   ],
   "metadata": {
    "collapsed": false
   },
   "id": "c46f61915141a3f4"
  },
  {
   "cell_type": "markdown",
   "source": [],
   "metadata": {
    "collapsed": false
   },
   "id": "cdaa95d64c116e7e"
  }
 ],
 "metadata": {
  "kernelspec": {
   "display_name": "Python 3",
   "language": "python",
   "name": "python3"
  },
  "language_info": {
   "codemirror_mode": {
    "name": "ipython",
    "version": 2
   },
   "file_extension": ".py",
   "mimetype": "text/x-python",
   "name": "python",
   "nbconvert_exporter": "python",
   "pygments_lexer": "ipython2",
   "version": "2.7.6"
  }
 },
 "nbformat": 4,
 "nbformat_minor": 5
}
