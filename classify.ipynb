{
 "cells": [
  {
   "cell_type": "code",
   "execution_count": null,
   "id": "initial_id",
   "metadata": {
    "collapsed": true
   },
   "outputs": [],
   "source": [
    "from prepare.prepare_software import PrepareSoftware\n",
    "\n",
    "software = PrepareSoftware()\n",
    "\n",
    "software.prepare()"
   ]
  },
  {
   "cell_type": "code",
   "execution_count": null,
   "outputs": [],
   "source": [
    "from prepare.prepare_serve import PrepareServe\n",
    "\n",
    "software = PrepareServe()\n",
    "\n",
    "software.prepare()"
   ],
   "metadata": {
    "collapsed": false
   },
   "id": "8616d1a7e7bfd115"
  },
  {
   "cell_type": "code",
   "execution_count": 1,
   "outputs": [],
   "source": [
    "from prepare.prepare_reference import PrepareReference\n",
    "\n",
    "other = PrepareReference()\n",
    "\n",
    "other.prepare()"
   ],
   "metadata": {
    "collapsed": false,
    "ExecuteTime": {
     "end_time": "2023-09-15T07:03:12.838720800Z",
     "start_time": "2023-09-15T07:02:41.899526500Z"
    }
   },
   "id": "abf6942b6d38d3d3"
  },
  {
   "cell_type": "code",
   "execution_count": null,
   "outputs": [],
   "source": [],
   "metadata": {
    "collapsed": false
   },
   "id": "2ee59c8c900b3130"
  }
 ],
 "metadata": {
  "kernelspec": {
   "display_name": "Python 3",
   "language": "python",
   "name": "python3"
  },
  "language_info": {
   "codemirror_mode": {
    "name": "ipython",
    "version": 2
   },
   "file_extension": ".py",
   "mimetype": "text/x-python",
   "name": "python",
   "nbconvert_exporter": "python",
   "pygments_lexer": "ipython2",
   "version": "2.7.6"
  }
 },
 "nbformat": 4,
 "nbformat_minor": 5
}
